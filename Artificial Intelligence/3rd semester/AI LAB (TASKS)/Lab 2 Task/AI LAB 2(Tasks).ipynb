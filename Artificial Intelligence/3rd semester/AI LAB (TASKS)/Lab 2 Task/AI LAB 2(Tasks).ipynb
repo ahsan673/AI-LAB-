{
 "cells": [
  {
   "cell_type": "code",
   "execution_count": 7,
   "id": "bbae8163-ccb1-4ef1-9595-79b36b30bdb2",
   "metadata": {},
   "outputs": [
    {
     "name": "stdout",
     "output_type": "stream",
     "text": [
      "---Welcome to the Fizz Buzz Game!---\n",
      "Players take turns adding numbers to their total.\n",
      "If a player's total results in 'Fizz Buzz', the other player wins!\n",
      "\n"
     ]
    },
    {
     "name": "stdin",
     "output_type": "stream",
     "text": [
      "Player 1, enter a positive number to add to your total:  2\n"
     ]
    },
    {
     "name": "stdout",
     "output_type": "stream",
     "text": [
      "Player 1's total: 2 -> 2\n"
     ]
    },
    {
     "name": "stdin",
     "output_type": "stream",
     "text": [
      "Player 2, enter a positive number to add to your total:  4\n"
     ]
    },
    {
     "name": "stdout",
     "output_type": "stream",
     "text": [
      "Player 2's total: 4 -> 4\n",
      "\n",
      "--- End of Turn 1 ---\n",
      "\n"
     ]
    },
    {
     "name": "stdin",
     "output_type": "stream",
     "text": [
      "Player 1, enter a positive number to add to your total:  5\n"
     ]
    },
    {
     "name": "stdout",
     "output_type": "stream",
     "text": [
      "Player 1's total: 7 -> 7\n"
     ]
    },
    {
     "name": "stdin",
     "output_type": "stream",
     "text": [
      "Player 2, enter a positive number to add to your total:  7\n"
     ]
    },
    {
     "name": "stdout",
     "output_type": "stream",
     "text": [
      "Player 2's total: 11 -> 11\n",
      "\n",
      "--- End of Turn 2 ---\n",
      "\n"
     ]
    },
    {
     "name": "stdin",
     "output_type": "stream",
     "text": [
      "Player 1, enter a positive number to add to your total:  9\n"
     ]
    },
    {
     "name": "stdout",
     "output_type": "stream",
     "text": [
      "Player 1's total: 16 -> 16\n"
     ]
    },
    {
     "name": "stdin",
     "output_type": "stream",
     "text": [
      "Player 2, enter a positive number to add to your total:  4\n"
     ]
    },
    {
     "name": "stdout",
     "output_type": "stream",
     "text": [
      "Player 2's total: 15 -> Fizz Buzz\n",
      "Player 1 wins the game!\n"
     ]
    }
   ],
   "source": [
    "#Lab 2(Task 1)\n",
    "\n",
    "def Rules(num):\n",
    "    if num % 3 == 0 and num % 5 == 0:\n",
    "        return \"Fizz Buzz\"\n",
    "    elif num % 3 == 0:\n",
    "        return \"Fizz\"\n",
    "    elif num % 5 == 0:\n",
    "        return \"Buzz\"\n",
    "    else:\n",
    "        return str(num)\n",
    "\n",
    "def Fizz_Buzz_Game():\n",
    "    print(\"---Welcome to the Fizz Buzz Game!---\")\n",
    "    print(\"Players take turns adding numbers to their total.\")\n",
    "    print(\"If a player's total results in 'Fizz Buzz', the other player wins!\\n\")\n",
    "\n",
    "    Player1_Total = 0\n",
    "    Player2_Total = 0\n",
    "    Turn_Count = 0\n",
    "\n",
    "    while True:\n",
    "        \n",
    "        while True:\n",
    "            try:\n",
    "                player1 = int(input(\"Player 1, enter a positive number to add to your total: \"))\n",
    "                if player1 <= 0:\n",
    "                    raise ValueError(\"Number must be positive!\")\n",
    "                break\n",
    "            except ValueError as e:\n",
    "                print(f\"Invalid input: {e}\")\n",
    "\n",
    "        Player1_Total += player1\n",
    "        show = Rules(Player1_Total)\n",
    "        print(f\"Player 1's total: {Player1_Total} -> {show}\")\n",
    "        \n",
    "        if show == \"Fizz Buzz\":\n",
    "            print(\"Player 2 wins the game!\")\n",
    "            break\n",
    "\n",
    "        while True:\n",
    "            try:\n",
    "                player2 = int(input(\"Player 2, enter a positive number to add to your total: \"))\n",
    "                if player2 <= 0:\n",
    "                    raise ValueError(\"Number must be positive!\")\n",
    "                break\n",
    "            except ValueError as e:\n",
    "                print(f\"Invalid input: {e}\")\n",
    "        \n",
    "        Player2_Total += player2\n",
    "        show = Rules(Player2_Total)\n",
    "        print(f\"Player 2's total: {Player2_Total} -> {show}\")\n",
    "\n",
    "        if show == \"Fizz Buzz\":\n",
    "            print(\"Player 1 wins the game!\")\n",
    "            break\n",
    "        \n",
    "        Turn_Count += 1\n",
    "        print(f\"\\n--- End of Turn {Turn_Count} ---\\n\")\n",
    "\n",
    "Fizz_Buzz_Game()"
   ]
  },
  {
   "cell_type": "code",
   "execution_count": 3,
   "id": "f670a1d8-59f6-453e-aa46-e992eba37c54",
   "metadata": {},
   "outputs": [
    {
     "name": "stdin",
     "output_type": "stream",
     "text": [
      "Do you want to add more movies in the data set? (yes/no): yes\n",
      "How many movies do you want to add?  2\n",
      "Enter the movie name:  The Pack\n",
      "Enter the movie budget:  6000000\n",
      "Enter the movie name:  The Lion King\n",
      "Enter the movie budget:  4000000\n"
     ]
    },
    {
     "name": "stdout",
     "output_type": "stream",
     "text": [
      "The average budget of all the movies is $149,277,777.78.\n",
      "Pirates of the Caribbean: On Stranger Tides has a budget of $379,000,000, which is $229,722,222.2222222 higher than the average.\n",
      "Avengers: Age of Ultron has a budget of $365,000,000, which is $215,722,222.2222222 higher than the average.\n",
      "Avengers: Endgame has a budget of $356,000,000, which is $206,722,222.2222222 higher than the average.\n",
      "Incredibles 2 has a budget of $200,000,000, which is $50,722,222.22222221 higher than the average.\n",
      "There are 4 movies with the budget higher than the average.\n"
     ]
    }
   ],
   "source": [
    "#Lab 2(Task 2)\n",
    "\n",
    "movies = [\n",
    "    (\"Eternal Sunshine of the Spotless Mind\", 20000000),\n",
    "    (\"Memento\", 9000000),\n",
    "    (\"Requiem for a Dream\", 4500000),\n",
    "    (\"Pirates of the Caribbean: On Stranger Tides\", 379000000),\n",
    "    (\"Avengers: Age of Ultron\", 365000000),\n",
    "    (\"Avengers: Endgame\", 356000000),\n",
    "    (\"Incredibles 2\", 200000000)\n",
    "]\n",
    "\n",
    "def calculate_average_budget(movies):\n",
    "    total_budget = sum(movie[1] for movie in movies)\n",
    "    average_budget = total_budget / len(movies)\n",
    "    return average_budget\n",
    "\n",
    "def print_high_budget_movies(movies, average_budget):\n",
    "    high_budget_movies = [movie for movie in movies if movie[1] > average_budget]\n",
    "    for movie in high_budget_movies:\n",
    "        budget_diff = movie[1] - average_budget\n",
    "        print(f\"{movie[0]} has a budget of ${movie[1]:,}, which is ${budget_diff:,} higher than the average.\")\n",
    "    print(f\"There are {len(high_budget_movies)} movies with the budget higher than the average.\")\n",
    "\n",
    "def main():\n",
    "    add_movies = input(\"Do you want to add more movies in the data set? (yes/no):\")\n",
    "    if add_movies.lower() == \"yes\":\n",
    "        num_movies_to_add = int(input(\"How many movies do you want to add? \"))\n",
    "        for i in range(num_movies_to_add):\n",
    "            movie_name = input(\"Enter the movie name: \")\n",
    "            movie_budget = int(input(\"Enter the movie budget: \"))\n",
    "            movies.append((movie_name , movie_budget))\n",
    "            \n",
    "    average_budget = calculate_average_budget(movies)\n",
    "    print(f\"The average budget of all the movies is ${average_budget:,.2f}.\")\n",
    "    print_high_budget_movies(movies, average_budget)\n",
    "\n",
    "if __name__ == \"__main__\":\n",
    "    main()\n",
    "    \n",
    "    \n",
    "            \n",
    "    "
   ]
  },
  {
   "cell_type": "code",
   "execution_count": null,
   "id": "1cd2bfd6-41b9-40c0-8165-0a090a461572",
   "metadata": {},
   "outputs": [],
   "source": []
  }
 ],
 "metadata": {
  "kernelspec": {
   "display_name": "Python 3 (ipykernel)",
   "language": "python",
   "name": "python3"
  },
  "language_info": {
   "codemirror_mode": {
    "name": "ipython",
    "version": 3
   },
   "file_extension": ".py",
   "mimetype": "text/x-python",
   "name": "python",
   "nbconvert_exporter": "python",
   "pygments_lexer": "ipython3",
   "version": "3.12.4"
  }
 },
 "nbformat": 4,
 "nbformat_minor": 5
}
