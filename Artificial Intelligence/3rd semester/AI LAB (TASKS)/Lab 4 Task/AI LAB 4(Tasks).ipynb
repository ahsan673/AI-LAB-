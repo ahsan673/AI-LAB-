{
 "cells": [
  {
   "cell_type": "code",
   "execution_count": 2,
   "id": "11a90661-958b-4a2c-bfbe-09bd89551ff1",
   "metadata": {},
   "outputs": [
    {
     "name": "stdout",
     "output_type": "stream",
     "text": [
      "The Invalid Card Number\n"
     ]
    }
   ],
   "source": [
    "#Lab 4(Task 1)\n",
    "\n",
    "def LUHN_Algorithm(card_number):\n",
    "    digits = [int(z) for z in card_number[:-1]]\n",
    "    z = int(card_number[-1])\n",
    "    digits.reverse()\n",
    "    for i in range(len(digits)):\n",
    "        if i % 2 == 0:\n",
    "            digits[i] *=2\n",
    "    digits = [num-9 if num > 9 else num for num in digits]\n",
    "    total_sum = sum(digits) + z\n",
    "    if total_sum % 10 == 0:\n",
    "        return \"The Valid Card Number\"\n",
    "    else:\n",
    "        return \"The Invalid Card Number\"\n",
    "\n",
    "card_number = \"5742910006416701\"\n",
    "show = LUHN_Algorithm(card_number)\n",
    "print(show)\n"
   ]
  },
  {
   "cell_type": "code",
   "execution_count": 12,
   "id": "67c1c963-3956-4318-9f0d-96fca93b0279",
   "metadata": {},
   "outputs": [
    {
     "name": "stdout",
     "output_type": "stream",
     "text": [
      "['Asif', 'Hello', 'I', 'Waqas', 'am']\n"
     ]
    }
   ],
   "source": [
    "#Lab 4(Task 2)\n",
    "\n",
    "list = ['Hello','I','Waqas','am','Asif']\n",
    "for j in range(len(list)-1):\n",
    "    for i in range(len(list)-1-j):\n",
    "        if list[i]>list[i+1]:\n",
    "            list[i],list[i+1] = list[i+1],list[i]\n",
    "print(list)"
   ]
  },
  {
   "cell_type": "code",
   "execution_count": null,
   "id": "6605a755-2cce-41f2-ab20-bc67e67fab97",
   "metadata": {},
   "outputs": [],
   "source": []
  },
  {
   "cell_type": "code",
   "execution_count": 7,
   "id": "d88ba1f2-85c8-45db-b35f-03b2d41220df",
   "metadata": {},
   "outputs": [
    {
     "name": "stdin",
     "output_type": "stream",
     "text": [
      "Enter the string:  @Asif, How's long! you# live here.<*\n"
     ]
    },
    {
     "name": "stdout",
     "output_type": "stream",
     "text": [
      "String without punctuation:  Asif Hows long you live here\n"
     ]
    }
   ],
   "source": [
    "#Lab 4(Task 3)\n",
    "\n",
    "import string\n",
    "\n",
    "def remove_punctuation(input_string):\n",
    "    show = ''\n",
    "    punctuations = string.punctuation\n",
    "    for char in input_string:\n",
    "        if char not in punctuations:\n",
    "            show += char\n",
    "    return show\n",
    "\n",
    "input_string = input(\"Enter the string: \")\n",
    "out = remove_punctuation(input_string)\n",
    "print(\"String without punctuation: \", out)"
   ]
  },
  {
   "cell_type": "code",
   "execution_count": null,
   "id": "2b2e9c03-be22-43ff-a19b-28a1865ade03",
   "metadata": {},
   "outputs": [],
   "source": []
  }
 ],
 "metadata": {
  "kernelspec": {
   "display_name": "Python 3 (ipykernel)",
   "language": "python",
   "name": "python3"
  },
  "language_info": {
   "codemirror_mode": {
    "name": "ipython",
    "version": 3
   },
   "file_extension": ".py",
   "mimetype": "text/x-python",
   "name": "python",
   "nbconvert_exporter": "python",
   "pygments_lexer": "ipython3",
   "version": "3.12.4"
  }
 },
 "nbformat": 4,
 "nbformat_minor": 5
}
