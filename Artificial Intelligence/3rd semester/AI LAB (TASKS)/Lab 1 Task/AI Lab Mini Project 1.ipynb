{
 "cells": [
  {
   "cell_type": "code",
   "execution_count": 5,
   "id": "506ef65a-5800-485f-b745-3293704f204d",
   "metadata": {},
   "outputs": [
    {
     "name": "stdin",
     "output_type": "stream",
     "text": [
      "Enter the arithmetic expression:  9+6-7*4/2\n"
     ]
    },
    {
     "name": "stdout",
     "output_type": "stream",
     "text": [
      "The result of 9+6-7*4/2 is 16.0\n"
     ]
    }
   ],
   "source": [
    "#Lab task 1\n",
    "\n",
    "def Calculator():\n",
    "    expression = input(\"Enter the arithmetic expression: \")\n",
    "\n",
    "    tokens = []\n",
    "    current_number = ''\n",
    "    for char in expression:\n",
    "        if char.isdigit() or char == '.':\n",
    "            current_number += char\n",
    "        else:\n",
    "            if current_number:\n",
    "                tokens.append(float(current_number))\n",
    "                current_number = ''\n",
    "            tokens.append(char)\n",
    "    if current_number:\n",
    "        tokens.append(float(current_number))\n",
    "\n",
    "    result = tokens[0]\n",
    "    for i in range(1, len(tokens), 2):\n",
    "        operator = tokens[i]\n",
    "        operand = tokens[i + 1]\n",
    "        if operator == '+':\n",
    "            result += operand\n",
    "        elif operator == '-':\n",
    "            result -= operand\n",
    "        elif operator == '*':\n",
    "            result *= operand\n",
    "        elif operator == '/':\n",
    "            if operand != 0:\n",
    "                result /= operand\n",
    "            else:\n",
    "                result = \"nan\"\n",
    "\n",
    "    print(f\"The result of {expression} is {result}\")\n",
    "\n",
    "Calculator()"
   ]
  },
  {
   "cell_type": "code",
   "execution_count": null,
   "id": "ef13e7e4-e924-4bf5-aa03-a31db7a4e249",
   "metadata": {},
   "outputs": [],
   "source": []
  }
 ],
 "metadata": {
  "kernelspec": {
   "display_name": "Python 3 (ipykernel)",
   "language": "python",
   "name": "python3"
  },
  "language_info": {
   "codemirror_mode": {
    "name": "ipython",
    "version": 3
   },
   "file_extension": ".py",
   "mimetype": "text/x-python",
   "name": "python",
   "nbconvert_exporter": "python",
   "pygments_lexer": "ipython3",
   "version": "3.12.4"
  }
 },
 "nbformat": 4,
 "nbformat_minor": 5
}
