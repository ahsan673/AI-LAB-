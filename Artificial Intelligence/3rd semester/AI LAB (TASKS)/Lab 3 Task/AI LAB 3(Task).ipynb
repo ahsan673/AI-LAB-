{
 "cells": [
  {
   "cell_type": "code",
   "execution_count": 7,
   "id": "42a2f550-3b2c-4168-be43-126f52c337ea",
   "metadata": {},
   "outputs": [
    {
     "name": "stdout",
     "output_type": "stream",
     "text": [
      "Living Room (30 C) ==> Turn on the cooler in Living Room\n",
      "Bedroom (17 C) ==> Turn on the heater in Bedroom\n",
      "Kitchen (23 C) ==> Turn on the cooler in Kitchen\n",
      "Office (26 C) ==> Turn on the cooler in Office\n",
      "\n",
      "Knowledge Base: {'Living Room': 30, 'Bedroom': 17, 'Kitchen': 23, 'Office': 26}\n",
      "\n",
      "Action History: {'Living Room': ['Turn on the cooler in Living Room'], 'Bedroom': ['Turn on the heater in Bedroom'], 'Kitchen': ['Turn on the cooler in Kitchen'], 'Office': ['Turn on the cooler in Office']}\n"
     ]
    }
   ],
   "source": [
    "#Lab 3 Task\n",
    "\n",
    "class ModelBaseAgent:\n",
    "    def __init__(self, desired_temp):\n",
    "        self.desired_temp = desired_temp\n",
    "        self.knowledge_base = {}\n",
    "        self.action_history = {}\n",
    "\n",
    "    def percept(self, room, temp):\n",
    "        self.knowledge_base[room] = temp\n",
    "        self.current_temp = temp\n",
    "        self.current_room = room\n",
    "        \n",
    "    def actuators(self):\n",
    "        if self.current_temp > self.desired_temp:\n",
    "            action = f\"Turn on the cooler in {self.current_room}\"\n",
    "        elif self.current_temp < self.desired_temp:\n",
    "            action = f\"Turn on the heater in {self.current_room}\"\n",
    "        else:\n",
    "            action = f\"{self.current_room} is at optimal temperature, no action needed\"\n",
    "        \n",
    "        if self.current_room not in self.action_history:\n",
    "            self.action_history[self.current_room] = []\n",
    "        self.action_history[self.current_room].append(action)\n",
    "        \n",
    "        return action\n",
    "            \n",
    "    def get_knowledge(self):\n",
    "        return self.knowledge_base\n",
    "\n",
    "    def get_action_history(self):\n",
    "        return self.action_history\n",
    "\n",
    "agent = ModelBaseAgent(22)\n",
    "\n",
    "rooms = {\n",
    "    \"Living Room\": 30,\n",
    "    \"Bedroom\": 17,\n",
    "    \"Kitchen\": 23,\n",
    "    \"Office\": 26\n",
    "}\n",
    "\n",
    "for room, temp in rooms.items():\n",
    "    agent.percept(room, temp)\n",
    "    print(f\"{room} ({temp} C) ==> {agent.actuators()}\")\n",
    "\n",
    "print(\"\\nKnowledge Base:\", agent.get_knowledge())\n",
    "print(\"\\nAction History:\", agent.get_action_history())"
   ]
  },
  {
   "cell_type": "code",
   "execution_count": null,
   "id": "8edd167a-928e-4848-bc14-5b76b15b75af",
   "metadata": {},
   "outputs": [],
   "source": []
  }
 ],
 "metadata": {
  "kernelspec": {
   "display_name": "Python 3 (ipykernel)",
   "language": "python",
   "name": "python3"
  },
  "language_info": {
   "codemirror_mode": {
    "name": "ipython",
    "version": 3
   },
   "file_extension": ".py",
   "mimetype": "text/x-python",
   "name": "python",
   "nbconvert_exporter": "python",
   "pygments_lexer": "ipython3",
   "version": "3.12.4"
  }
 },
 "nbformat": 4,
 "nbformat_minor": 5
}
